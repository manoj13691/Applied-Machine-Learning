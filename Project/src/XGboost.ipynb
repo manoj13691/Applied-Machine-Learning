{
 "cells": [
  {
   "cell_type": "code",
   "execution_count": 48,
   "metadata": {},
   "outputs": [],
   "source": [
    "from numpy import loadtxt\n",
    "from xgboost import XGBClassifier\n",
    "from sklearn.model_selection import train_test_split\n",
    "from sklearn.metrics import accuracy_score\n",
    "import pandas\n",
    "#from keras.utils import np_utils"
   ]
  },
  {
   "cell_type": "code",
   "execution_count": 49,
   "metadata": {
    "collapsed": true
   },
   "outputs": [],
   "source": [
    "dataframe = pandas.read_csv(\"train_with_undersampling_allcat.csv\", header=0)\n",
    "#dataframe_shuffled = dataframe.sample(frac=1).reset_index(drop=True)\n",
    "#dataset = dataframe.values\n",
    "#dataset = dataframe_shuffled.values\n",
    "dataset = dataframe.values\n",
    "\n",
    "\n",
    "# split into input (X) and output (Y) variables\n",
    "X = dataset[:,2:].astype(float)\n",
    "Y = dataset[:,1]\n",
    "id = dataset[:,0]\n",
    "seed = 7"
   ]
  },
  {
   "cell_type": "code",
   "execution_count": 50,
   "metadata": {},
   "outputs": [
    {
     "name": "stdout",
     "output_type": "stream",
     "text": [
      "(65082, 85)\n",
      "21694\n",
      "43388\n"
     ]
    }
   ],
   "source": [
    "print X.shape\n",
    "print sum(Y==1)\n",
    "print sum(Y==0)"
   ]
  },
  {
   "cell_type": "code",
   "execution_count": 51,
   "metadata": {
    "scrolled": true
   },
   "outputs": [
    {
     "name": "stdout",
     "output_type": "stream",
     "text": [
      "[  961457.   176164.  1313357. ...,  1487716.  1487748.  1487866.]\n",
      "[ 0.  0.  0. ...,  1.  1.  1.]\n",
      "[  5.00000000e+00   1.00000000e+00   6.00000000e+00   0.00000000e+00\n",
      "   0.00000000e+00   0.00000000e+00   0.00000000e+00   0.00000000e+00\n",
      "   1.00000000e+00   0.00000000e+00   0.00000000e+00   0.00000000e+00\n",
      "   0.00000000e+00   0.00000000e+00   0.00000000e+00   0.00000000e+00\n",
      "   0.00000000e+00   1.00000000e+00   4.00000000e-01   0.00000000e+00\n",
      "   5.67890835e-01   4.00000000e+00   1.00000000e+00   2.00000000e+00\n",
      "   0.00000000e+00   0.00000000e+00   7.00000000e+00   0.00000000e+00\n",
      "   1.00000000e+00   0.00000000e+00   1.00000000e+00   9.60000000e+01\n",
      "   3.00000000e+00   4.46878059e-01   6.02234133e-01   4.30116263e-01\n",
      "   1.73205081e+00   4.95264000e+05   3.46965000e+05   4.93990000e+05\n",
      "   4.11231000e+05   1.55994000e+05   3.05750000e+04   5.90179000e+05\n",
      "   4.31859000e+05   1.94518000e+05   5.28009000e+05   4.96581000e+05\n",
      "   2.61740000e+04   1.61580000e+04   1.00000000e+00   0.00000000e+00\n",
      "   0.00000000e+00   0.00000000e+00   1.00000000e+00   1.00000000e+00\n",
      "   0.00000000e+00   0.00000000e+00   0.00000000e+00   0.00000000e+00\n",
      "   0.00000000e+00   0.00000000e+00   1.00000000e+00   0.00000000e+00\n",
      "   0.00000000e+00   1.00000000e+00   0.00000000e+00   0.00000000e+00\n",
      "   0.00000000e+00   0.00000000e+00   0.00000000e+00   0.00000000e+00\n",
      "   0.00000000e+00   0.00000000e+00   0.00000000e+00   0.00000000e+00\n",
      "   0.00000000e+00   1.00000000e+00   0.00000000e+00   0.00000000e+00\n",
      "   0.00000000e+00   0.00000000e+00   1.00000000e+00   1.00000000e+00\n",
      "   1.00000000e+00]\n"
     ]
    }
   ],
   "source": [
    "print id\n",
    "print Y\n",
    "print X[0]"
   ]
  },
  {
   "cell_type": "code",
   "execution_count": 52,
   "metadata": {
    "scrolled": true
   },
   "outputs": [
    {
     "data": {
      "text/plain": [
       "XGBClassifier(base_score=0.5, colsample_bylevel=1, colsample_bytree=1,\n",
       "       gamma=0, learning_rate=0.1, max_delta_step=0, max_depth=3,\n",
       "       min_child_weight=1, missing=None, n_estimators=500, nthread=-1,\n",
       "       objective='binary:logistic', reg_alpha=0, reg_lambda=1,\n",
       "       scale_pos_weight=1, seed=0, silent=True, subsample=1)"
      ]
     },
     "execution_count": 52,
     "metadata": {},
     "output_type": "execute_result"
    }
   ],
   "source": [
    "# fit model no training data\n",
    "model = XGBClassifier(max_depth= 3, n_estimators= 500)\n",
    "model.fit(X, Y)"
   ]
  },
  {
   "cell_type": "code",
   "execution_count": 53,
   "metadata": {
    "collapsed": true
   },
   "outputs": [],
   "source": [
    "# make predictions for train data\n",
    "y_pred = model.predict(X)\n",
    "predictions = [round(value) for value in y_pred]"
   ]
  },
  {
   "cell_type": "code",
   "execution_count": 54,
   "metadata": {},
   "outputs": [
    {
     "name": "stdout",
     "output_type": "stream",
     "text": [
      "Accuracy: 69.68%\n"
     ]
    }
   ],
   "source": [
    "# evaluate predictions on train data\n",
    "accuracy = accuracy_score(Y, predictions)\n",
    "print(\"Accuracy: %.2f%%\" % (accuracy * 100.0))"
   ]
  },
  {
   "cell_type": "code",
   "execution_count": 55,
   "metadata": {
    "collapsed": true
   },
   "outputs": [],
   "source": [
    "#Read and prdict the test data\n",
    "dataframe = pandas.read_csv(\"test_without_smote_mj_allcat.csv\", header=0)\n",
    "dataset = dataframe.values\n",
    "\n",
    "# split into input (X) and output (Y) variables\n",
    "X = dataset[:,1:].astype(float)\n",
    "#Y = dataset[:,22]\n",
    "id = dataset[:,0].astype(int)"
   ]
  },
  {
   "cell_type": "code",
   "execution_count": 56,
   "metadata": {},
   "outputs": [
    {
     "name": "stdout",
     "output_type": "stream",
     "text": [
      "(892816, 85)\n",
      "[      0       1       2 ..., 1488024 1488025 1488026]\n"
     ]
    }
   ],
   "source": [
    "print X.shape\n",
    "print id"
   ]
  },
  {
   "cell_type": "code",
   "execution_count": 57,
   "metadata": {},
   "outputs": [
    {
     "name": "stdout",
     "output_type": "stream",
     "text": [
      "[[ 0.  1.  8. ...,  0.  0.  1.]\n",
      " [ 4.  2.  5. ...,  0.  1.  1.]\n",
      " [ 5.  1.  3. ...,  1.  1.  0.]\n",
      " ..., \n",
      " [ 0.  1.  5. ...,  0.  1.  1.]\n",
      " [ 6.  1.  5. ...,  0.  1.  0.]\n",
      " [ 7.  1.  4. ...,  1.  0.  0.]]\n"
     ]
    }
   ],
   "source": [
    "print X"
   ]
  },
  {
   "cell_type": "code",
   "execution_count": 58,
   "metadata": {
    "collapsed": true
   },
   "outputs": [],
   "source": [
    "answers_prob_test = model.predict_proba(X)"
   ]
  },
  {
   "cell_type": "code",
   "execution_count": 59,
   "metadata": {},
   "outputs": [
    {
     "data": {
      "text/plain": [
       "array([[ 0.73834872,  0.26165131],\n",
       "       [ 0.71240377,  0.28759626],\n",
       "       [ 0.77137637,  0.22862361],\n",
       "       ..., \n",
       "       [ 0.69445002,  0.30555001],\n",
       "       [ 0.76895154,  0.23104846],\n",
       "       [ 0.72186321,  0.27813679]], dtype=float32)"
      ]
     },
     "execution_count": 59,
     "metadata": {},
     "output_type": "execute_result"
    }
   ],
   "source": [
    "answers_prob_test"
   ]
  },
  {
   "cell_type": "code",
   "execution_count": 60,
   "metadata": {
    "collapsed": true
   },
   "outputs": [],
   "source": [
    "one_probabs_test = answers_prob_test[:,1]"
   ]
  },
  {
   "cell_type": "code",
   "execution_count": 61,
   "metadata": {},
   "outputs": [
    {
     "name": "stdout",
     "output_type": "stream",
     "text": [
      "(892816,)\n",
      "(892816,)\n"
     ]
    }
   ],
   "source": [
    "print one_probabs_test.shape\n",
    "print id.shape"
   ]
  },
  {
   "cell_type": "code",
   "execution_count": 62,
   "metadata": {},
   "outputs": [
    {
     "data": {
      "text/plain": [
       "61742"
      ]
     },
     "execution_count": 62,
     "metadata": {},
     "output_type": "execute_result"
    }
   ],
   "source": [
    "sum(one_probabs_test>=0.5)"
   ]
  },
  {
   "cell_type": "code",
   "execution_count": 63,
   "metadata": {
    "collapsed": true
   },
   "outputs": [],
   "source": [
    "df = pandas.DataFrame({\"id\":id})\n",
    "df\n",
    "df[\"target\"] = one_probabs_test\n",
    "df.to_csv(\"answers_allcat_undersample_3_depth.csv\",index=False)"
   ]
  },
  {
   "cell_type": "code",
   "execution_count": null,
   "metadata": {
    "collapsed": true
   },
   "outputs": [],
   "source": []
  }
 ],
 "metadata": {
  "kernelspec": {
   "display_name": "Python 2",
   "language": "python",
   "name": "python2"
  },
  "language_info": {
   "codemirror_mode": {
    "name": "ipython",
    "version": 2
   },
   "file_extension": ".py",
   "mimetype": "text/x-python",
   "name": "python",
   "nbconvert_exporter": "python",
   "pygments_lexer": "ipython2",
   "version": "2.7.13"
  }
 },
 "nbformat": 4,
 "nbformat_minor": 2
}
