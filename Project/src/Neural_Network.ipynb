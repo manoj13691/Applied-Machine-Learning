{
 "cells": [
  {
   "cell_type": "code",
   "execution_count": 1,
   "metadata": {},
   "outputs": [
    {
     "name": "stderr",
     "output_type": "stream",
     "text": [
      "Using TensorFlow backend.\n"
     ]
    }
   ],
   "source": [
    "import numpy\n",
    "import pandas\n",
    "from keras.models import Sequential\n",
    "from keras.layers import Dense\n",
    "from keras.wrappers.scikit_learn import KerasClassifier\n",
    "from sklearn.model_selection import cross_val_score\n",
    "from sklearn.preprocessing import LabelEncoder\n",
    "from sklearn.model_selection import StratifiedKFold\n",
    "from sklearn.preprocessing import StandardScaler\n",
    "from sklearn.pipeline import Pipeline\n",
    "from keras.utils import np_utils"
   ]
  },
  {
   "cell_type": "code",
   "execution_count": 2,
   "metadata": {
    "collapsed": true
   },
   "outputs": [],
   "source": [
    "# fix random seed for reproducibility\n",
    "seed = 7\n",
    "numpy.random.seed(seed)"
   ]
  },
  {
   "cell_type": "code",
   "execution_count": 95,
   "metadata": {},
   "outputs": [],
   "source": [
    "dataframe = pandas.read_csv(\"train_without_smote_mj_allcat.csv\", header=0)\n",
    "#dataframe_shuffled = dataframe.sample(frac=1).reset_index(drop=True)\n",
    "#dataset = dataframe.values\n",
    "#dataset = dataframe_shuffled.values\n",
    "dataset = dataframe.values\n",
    "\n",
    "\n",
    "# split into input (X) and output (Y) variables\n",
    "X = dataset[:,2:].astype(float)\n",
    "Y = dataset[:,1]\n",
    "id = dataset[:,0]\n",
    "\n",
    "#For softmax function\n",
    "Y =np_utils.to_categorical(Y)"
   ]
  },
  {
   "cell_type": "code",
   "execution_count": 96,
   "metadata": {},
   "outputs": [
    {
     "name": "stdout",
     "output_type": "stream",
     "text": [
      "21694\n"
     ]
    }
   ],
   "source": [
    "#Number of ones = 21,694\n",
    "one_count =0\n",
    "for i in Y:\n",
    "    if i[1]==1:\n",
    "        one_count +=1\n",
    "print one_count        "
   ]
  },
  {
   "cell_type": "code",
   "execution_count": 97,
   "metadata": {},
   "outputs": [
    {
     "name": "stdout",
     "output_type": "stream",
     "text": [
      "[[ 0.0502179   0.95829073  0.21359383 ...,  1.65447572 -0.99693018\n",
      "  -1.1154726 ]\n",
      " [-0.45386836 -0.54166362  0.95436209 ..., -0.60442108  1.00307928\n",
      "   0.89648101]\n",
      " [ 1.56247669  3.95819943  1.69513035 ...,  1.65447572  1.00307928\n",
      "  -1.1154726 ]\n",
      " ..., \n",
      " [-0.45386836 -0.54166362  2.06551448 ..., -0.60442108 -0.99693018\n",
      "   0.89648101]\n",
      " [ 1.56247669  0.95829073 -0.52717443 ..., -0.60442108  1.00307928\n",
      "   0.89648101]\n",
      " [-0.95795462 -0.54166362  1.32474622 ..., -0.60442108 -0.99693018\n",
      "  -1.1154726 ]]\n"
     ]
    }
   ],
   "source": [
    "scale = StandardScaler()\n",
    "X = scale.fit_transform(X)\n",
    "print X"
   ]
  },
  {
   "cell_type": "code",
   "execution_count": 98,
   "metadata": {},
   "outputs": [
    {
     "name": "stdout",
     "output_type": "stream",
     "text": [
      "Epoch 1/500\n",
      "595212/595212 [==============================] - 3s - loss: 0.2181 - acc: 0.9608     \n",
      "Epoch 2/500\n",
      "595212/595212 [==============================] - 3s - loss: 0.1524 - acc: 0.9636     \n",
      "Epoch 3/500\n",
      "595212/595212 [==============================] - 3s - loss: 0.1520 - acc: 0.9636     \n",
      "Epoch 4/500\n",
      "595212/595212 [==============================] - 3s - loss: 0.1518 - acc: 0.9636     \n",
      "Epoch 5/500\n",
      "595212/595212 [==============================] - 3s - loss: 0.1515 - acc: 0.9636     \n",
      "Epoch 6/500\n",
      "595212/595212 [==============================] - 3s - loss: 0.1514 - acc: 0.9636     \n",
      "Epoch 7/500\n",
      "595212/595212 [==============================] - 3s - loss: 0.1513 - acc: 0.9636     \n",
      "Epoch 8/500\n",
      "595212/595212 [==============================] - 3s - loss: 0.1512 - acc: 0.9636     \n",
      "Epoch 9/500\n",
      "595212/595212 [==============================] - 3s - loss: 0.1511 - acc: 0.9636     \n",
      "Epoch 10/500\n",
      "595212/595212 [==============================] - 3s - loss: 0.1511 - acc: 0.9636     \n",
      "Epoch 11/500\n",
      "595212/595212 [==============================] - 3s - loss: 0.1510 - acc: 0.9636     \n",
      "Epoch 12/500\n",
      "595212/595212 [==============================] - 3s - loss: 0.1508 - acc: 0.9636     \n",
      "Epoch 13/500\n",
      "595212/595212 [==============================] - 3s - loss: 0.1507 - acc: 0.9636     \n",
      "Epoch 14/500\n",
      "595212/595212 [==============================] - 3s - loss: 0.1506 - acc: 0.9636     \n",
      "Epoch 15/500\n",
      "595212/595212 [==============================] - 3s - loss: 0.1505 - acc: 0.9636     \n",
      "Epoch 16/500\n",
      "595212/595212 [==============================] - 3s - loss: 0.1504 - acc: 0.9636     \n",
      "Epoch 17/500\n",
      "595212/595212 [==============================] - 3s - loss: 0.1503 - acc: 0.9636     \n",
      "Epoch 18/500\n",
      "595212/595212 [==============================] - 3s - loss: 0.1502 - acc: 0.9636     \n",
      "Epoch 19/500\n",
      "595212/595212 [==============================] - 3s - loss: 0.1500 - acc: 0.9636     \n",
      "Epoch 20/500\n",
      "595212/595212 [==============================] - 3s - loss: 0.1499 - acc: 0.9636     \n",
      "Epoch 21/500\n",
      "595212/595212 [==============================] - 3s - loss: 0.1498 - acc: 0.9636     \n",
      "Epoch 22/500\n",
      "595212/595212 [==============================] - 3s - loss: 0.1497 - acc: 0.9636     \n",
      "Epoch 23/500\n",
      "595212/595212 [==============================] - 3s - loss: 0.1494 - acc: 0.9636     \n",
      "Epoch 24/500\n",
      "595212/595212 [==============================] - 3s - loss: 0.1494 - acc: 0.9636     \n",
      "Epoch 25/500\n",
      "595212/595212 [==============================] - 3s - loss: 0.1492 - acc: 0.9636     \n",
      "Epoch 26/500\n",
      "595212/595212 [==============================] - 3s - loss: 0.1490 - acc: 0.9636     \n",
      "Epoch 27/500\n",
      "595212/595212 [==============================] - 4s - loss: 0.1489 - acc: 0.9636     \n",
      "Epoch 28/500\n",
      "595212/595212 [==============================] - 4s - loss: 0.1488 - acc: 0.9636     \n",
      "Epoch 29/500\n",
      "595212/595212 [==============================] - 3s - loss: 0.1486 - acc: 0.9636     \n",
      "Epoch 30/500\n",
      "595212/595212 [==============================] - 3s - loss: 0.1484 - acc: 0.9636     \n",
      "Epoch 31/500\n",
      "595212/595212 [==============================] - 3s - loss: 0.1483 - acc: 0.9636     \n",
      "Epoch 32/500\n",
      "595212/595212 [==============================] - 3s - loss: 0.1482 - acc: 0.9636     \n",
      "Epoch 33/500\n",
      "595212/595212 [==============================] - 3s - loss: 0.1480 - acc: 0.9636     \n",
      "Epoch 34/500\n",
      "595212/595212 [==============================] - 3s - loss: 0.1479 - acc: 0.9636     \n",
      "Epoch 35/500\n",
      "595212/595212 [==============================] - 3s - loss: 0.1478 - acc: 0.9636     \n",
      "Epoch 36/500\n",
      "595212/595212 [==============================] - 3s - loss: 0.1477 - acc: 0.9636     \n",
      "Epoch 37/500\n",
      "595212/595212 [==============================] - 3s - loss: 0.1476 - acc: 0.9636     \n",
      "Epoch 38/500\n",
      "595212/595212 [==============================] - 3s - loss: 0.1475 - acc: 0.9636     \n",
      "Epoch 39/500\n",
      "595212/595212 [==============================] - 3s - loss: 0.1474 - acc: 0.9636     \n",
      "Epoch 40/500\n",
      "595212/595212 [==============================] - 3s - loss: 0.1472 - acc: 0.9636     \n",
      "Epoch 41/500\n",
      "595212/595212 [==============================] - 3s - loss: 0.1471 - acc: 0.9636     \n",
      "Epoch 42/500\n",
      "595212/595212 [==============================] - 3s - loss: 0.1470 - acc: 0.9636     \n",
      "Epoch 43/500\n",
      "595212/595212 [==============================] - 3s - loss: 0.1468 - acc: 0.9636     \n",
      "Epoch 44/500\n",
      "595212/595212 [==============================] - 3s - loss: 0.1467 - acc: 0.9636     \n",
      "Epoch 45/500\n",
      "595212/595212 [==============================] - 3s - loss: 0.1467 - acc: 0.9636     \n",
      "Epoch 46/500\n",
      "595212/595212 [==============================] - 3s - loss: 0.1465 - acc: 0.9636     \n",
      "Epoch 47/500\n",
      "595212/595212 [==============================] - 3s - loss: 0.1464 - acc: 0.9636     \n",
      "Epoch 48/500\n",
      "595212/595212 [==============================] - 3s - loss: 0.1462 - acc: 0.9636     \n",
      "Epoch 49/500\n",
      "595212/595212 [==============================] - 3s - loss: 0.1461 - acc: 0.9636     \n",
      "Epoch 50/500\n",
      "595212/595212 [==============================] - 5s - loss: 0.1461 - acc: 0.9636     \n",
      "Epoch 51/500\n",
      "595212/595212 [==============================] - 3s - loss: 0.1459 - acc: 0.9636     \n",
      "Epoch 52/500\n",
      "595212/595212 [==============================] - 3s - loss: 0.1458 - acc: 0.9636     \n",
      "Epoch 53/500\n",
      "595212/595212 [==============================] - 3s - loss: 0.1457 - acc: 0.9636     \n",
      "Epoch 54/500\n",
      "595212/595212 [==============================] - 3s - loss: 0.1457 - acc: 0.9636     \n",
      "Epoch 55/500\n",
      "595212/595212 [==============================] - 4s - loss: 0.1454 - acc: 0.9636     \n",
      "Epoch 56/500\n",
      "595212/595212 [==============================] - 4s - loss: 0.1454 - acc: 0.9636     \n",
      "Epoch 57/500\n",
      "595212/595212 [==============================] - 3s - loss: 0.1453 - acc: 0.9636     \n",
      "Epoch 58/500\n",
      "595212/595212 [==============================] - 3s - loss: 0.1452 - acc: 0.9636     \n",
      "Epoch 59/500\n",
      "595212/595212 [==============================] - 3s - loss: 0.1451 - acc: 0.9636     \n",
      "Epoch 60/500\n",
      "595212/595212 [==============================] - 3s - loss: 0.1450 - acc: 0.9636     \n",
      "Epoch 61/500\n",
      "595212/595212 [==============================] - 3s - loss: 0.1450 - acc: 0.9636     \n",
      "Epoch 62/500\n",
      "595212/595212 [==============================] - 3s - loss: 0.1450 - acc: 0.9636     \n",
      "Epoch 63/500\n",
      "595212/595212 [==============================] - 3s - loss: 0.1448 - acc: 0.9636     \n",
      "Epoch 64/500\n",
      "595212/595212 [==============================] - 3s - loss: 0.1447 - acc: 0.9636     \n",
      "Epoch 65/500\n",
      "595212/595212 [==============================] - 3s - loss: 0.1447 - acc: 0.9636     \n",
      "Epoch 66/500\n",
      "595212/595212 [==============================] - 3s - loss: 0.1446 - acc: 0.9636     \n",
      "Epoch 67/500\n",
      "595212/595212 [==============================] - 3s - loss: 0.1445 - acc: 0.9636     \n",
      "Epoch 68/500\n",
      "595212/595212 [==============================] - 3s - loss: 0.1445 - acc: 0.9636     \n",
      "Epoch 69/500\n",
      "595212/595212 [==============================] - 3s - loss: 0.1443 - acc: 0.9636     \n",
      "Epoch 70/500\n",
      "595212/595212 [==============================] - 3s - loss: 0.1443 - acc: 0.9636     \n",
      "Epoch 71/500\n",
      "595212/595212 [==============================] - 3s - loss: 0.1443 - acc: 0.9636     \n",
      "Epoch 72/500\n",
      "595212/595212 [==============================] - 3s - loss: 0.1441 - acc: 0.9636     \n",
      "Epoch 73/500\n",
      "595212/595212 [==============================] - 3s - loss: 0.1440 - acc: 0.9636     \n",
      "Epoch 74/500\n",
      "595212/595212 [==============================] - 3s - loss: 0.1440 - acc: 0.9636     \n",
      "Epoch 75/500\n",
      "595212/595212 [==============================] - 3s - loss: 0.1439 - acc: 0.9637     \n",
      "Epoch 76/500\n",
      "595212/595212 [==============================] - 4s - loss: 0.1439 - acc: 0.9636     \n",
      "Epoch 77/500\n",
      "595212/595212 [==============================] - 3s - loss: 0.1438 - acc: 0.9637     \n",
      "Epoch 78/500\n",
      "595212/595212 [==============================] - 3s - loss: 0.1437 - acc: 0.9636     \n",
      "Epoch 79/500\n",
      "595212/595212 [==============================] - 3s - loss: 0.1437 - acc: 0.9637     \n",
      "Epoch 80/500\n",
      "595212/595212 [==============================] - 3s - loss: 0.1435 - acc: 0.9637     \n",
      "Epoch 81/500\n",
      "595212/595212 [==============================] - 4s - loss: 0.1434 - acc: 0.9636     \n",
      "Epoch 82/500\n",
      "595212/595212 [==============================] - 3s - loss: 0.1434 - acc: 0.9637     \n",
      "Epoch 83/500\n"
     ]
    },
    {
     "name": "stdout",
     "output_type": "stream",
     "text": [
      "595212/595212 [==============================] - 3s - loss: 0.1434 - acc: 0.9637     \n",
      "Epoch 84/500\n",
      "595212/595212 [==============================] - 3s - loss: 0.1433 - acc: 0.9637     \n",
      "Epoch 85/500\n",
      "595212/595212 [==============================] - 3s - loss: 0.1432 - acc: 0.9637     \n",
      "Epoch 86/500\n",
      "595212/595212 [==============================] - 3s - loss: 0.1431 - acc: 0.9637     \n",
      "Epoch 87/500\n",
      "595212/595212 [==============================] - 3s - loss: 0.1431 - acc: 0.9637     \n",
      "Epoch 88/500\n",
      "595212/595212 [==============================] - 3s - loss: 0.1430 - acc: 0.9637     \n",
      "Epoch 89/500\n",
      "595212/595212 [==============================] - 3s - loss: 0.1428 - acc: 0.9636     \n",
      "Epoch 90/500\n",
      "595212/595212 [==============================] - 3s - loss: 0.1429 - acc: 0.9637     \n",
      "Epoch 91/500\n",
      "595212/595212 [==============================] - 3s - loss: 0.1428 - acc: 0.9637     \n",
      "Epoch 92/500\n",
      "595212/595212 [==============================] - 3s - loss: 0.1428 - acc: 0.9637     \n",
      "Epoch 93/500\n",
      "595212/595212 [==============================] - 3s - loss: 0.1427 - acc: 0.9637     \n",
      "Epoch 94/500\n",
      "595212/595212 [==============================] - 3s - loss: 0.1426 - acc: 0.9637     \n",
      "Epoch 95/500\n",
      "595212/595212 [==============================] - 3s - loss: 0.1426 - acc: 0.9637     \n",
      "Epoch 96/500\n",
      "595212/595212 [==============================] - 3s - loss: 0.1425 - acc: 0.9637     \n",
      "Epoch 97/500\n",
      "595212/595212 [==============================] - 3s - loss: 0.1424 - acc: 0.9637     \n",
      "Epoch 98/500\n",
      "595212/595212 [==============================] - 3s - loss: 0.1424 - acc: 0.9637     \n",
      "Epoch 99/500\n",
      "595212/595212 [==============================] - 3s - loss: 0.1423 - acc: 0.9637     \n",
      "Epoch 100/500\n",
      "595212/595212 [==============================] - 3s - loss: 0.1422 - acc: 0.9637     \n",
      "Epoch 101/500\n",
      "214000/595212 [=========>....................] - ETA: 2s - loss: 0.1419 - acc: 0.9635"
     ]
    },
    {
     "ename": "KeyboardInterrupt",
     "evalue": "",
     "output_type": "error",
     "traceback": [
      "\u001b[0;31m---------------------------------------------------------------------------\u001b[0m",
      "\u001b[0;31mKeyboardInterrupt\u001b[0m                         Traceback (most recent call last)",
      "\u001b[0;32m<ipython-input-98-dd349e648f97>\u001b[0m in \u001b[0;36m<module>\u001b[0;34m()\u001b[0m\n\u001b[1;32m      8\u001b[0m \u001b[0;31m#Compile model\u001b[0m\u001b[0;34m\u001b[0m\u001b[0;34m\u001b[0m\u001b[0m\n\u001b[1;32m      9\u001b[0m \u001b[0mmodel\u001b[0m\u001b[0;34m.\u001b[0m\u001b[0mcompile\u001b[0m\u001b[0;34m(\u001b[0m\u001b[0mloss\u001b[0m\u001b[0;34m=\u001b[0m\u001b[0;34m'binary_crossentropy'\u001b[0m\u001b[0;34m,\u001b[0m \u001b[0moptimizer\u001b[0m\u001b[0;34m=\u001b[0m\u001b[0;34m'adam'\u001b[0m\u001b[0;34m,\u001b[0m \u001b[0mmetrics\u001b[0m\u001b[0;34m=\u001b[0m\u001b[0;34m[\u001b[0m\u001b[0;34m'accuracy'\u001b[0m\u001b[0;34m]\u001b[0m\u001b[0;34m)\u001b[0m\u001b[0;34m\u001b[0m\u001b[0m\n\u001b[0;32m---> 10\u001b[0;31m \u001b[0mmodel\u001b[0m\u001b[0;34m.\u001b[0m\u001b[0mfit\u001b[0m\u001b[0;34m(\u001b[0m\u001b[0mX\u001b[0m\u001b[0;34m,\u001b[0m \u001b[0mY\u001b[0m\u001b[0;34m,\u001b[0m \u001b[0mepochs\u001b[0m\u001b[0;34m=\u001b[0m\u001b[0;36m500\u001b[0m\u001b[0;34m,\u001b[0m \u001b[0mbatch_size\u001b[0m \u001b[0;34m=\u001b[0m\u001b[0;36m2000\u001b[0m\u001b[0;34m)\u001b[0m\u001b[0;34m\u001b[0m\u001b[0m\n\u001b[0m",
      "\u001b[0;32m/home/manoj/anaconda2/lib/python2.7/site-packages/keras/models.pyc\u001b[0m in \u001b[0;36mfit\u001b[0;34m(self, x, y, batch_size, epochs, verbose, callbacks, validation_split, validation_data, shuffle, class_weight, sample_weight, initial_epoch, **kwargs)\u001b[0m\n\u001b[1;32m    868\u001b[0m                               \u001b[0mclass_weight\u001b[0m\u001b[0;34m=\u001b[0m\u001b[0mclass_weight\u001b[0m\u001b[0;34m,\u001b[0m\u001b[0;34m\u001b[0m\u001b[0m\n\u001b[1;32m    869\u001b[0m                               \u001b[0msample_weight\u001b[0m\u001b[0;34m=\u001b[0m\u001b[0msample_weight\u001b[0m\u001b[0;34m,\u001b[0m\u001b[0;34m\u001b[0m\u001b[0m\n\u001b[0;32m--> 870\u001b[0;31m                               initial_epoch=initial_epoch)\n\u001b[0m\u001b[1;32m    871\u001b[0m \u001b[0;34m\u001b[0m\u001b[0m\n\u001b[1;32m    872\u001b[0m     def evaluate(self, x, y, batch_size=32, verbose=1,\n",
      "\u001b[0;32m/home/manoj/anaconda2/lib/python2.7/site-packages/keras/engine/training.pyc\u001b[0m in \u001b[0;36mfit\u001b[0;34m(self, x, y, batch_size, epochs, verbose, callbacks, validation_split, validation_data, shuffle, class_weight, sample_weight, initial_epoch, **kwargs)\u001b[0m\n\u001b[1;32m   1505\u001b[0m                               \u001b[0mval_f\u001b[0m\u001b[0;34m=\u001b[0m\u001b[0mval_f\u001b[0m\u001b[0;34m,\u001b[0m \u001b[0mval_ins\u001b[0m\u001b[0;34m=\u001b[0m\u001b[0mval_ins\u001b[0m\u001b[0;34m,\u001b[0m \u001b[0mshuffle\u001b[0m\u001b[0;34m=\u001b[0m\u001b[0mshuffle\u001b[0m\u001b[0;34m,\u001b[0m\u001b[0;34m\u001b[0m\u001b[0m\n\u001b[1;32m   1506\u001b[0m                               \u001b[0mcallback_metrics\u001b[0m\u001b[0;34m=\u001b[0m\u001b[0mcallback_metrics\u001b[0m\u001b[0;34m,\u001b[0m\u001b[0;34m\u001b[0m\u001b[0m\n\u001b[0;32m-> 1507\u001b[0;31m                               initial_epoch=initial_epoch)\n\u001b[0m\u001b[1;32m   1508\u001b[0m \u001b[0;34m\u001b[0m\u001b[0m\n\u001b[1;32m   1509\u001b[0m     \u001b[0;32mdef\u001b[0m \u001b[0mevaluate\u001b[0m\u001b[0;34m(\u001b[0m\u001b[0mself\u001b[0m\u001b[0;34m,\u001b[0m \u001b[0mx\u001b[0m\u001b[0;34m,\u001b[0m \u001b[0my\u001b[0m\u001b[0;34m,\u001b[0m \u001b[0mbatch_size\u001b[0m\u001b[0;34m=\u001b[0m\u001b[0;36m32\u001b[0m\u001b[0;34m,\u001b[0m \u001b[0mverbose\u001b[0m\u001b[0;34m=\u001b[0m\u001b[0;36m1\u001b[0m\u001b[0;34m,\u001b[0m \u001b[0msample_weight\u001b[0m\u001b[0;34m=\u001b[0m\u001b[0mNone\u001b[0m\u001b[0;34m)\u001b[0m\u001b[0;34m:\u001b[0m\u001b[0;34m\u001b[0m\u001b[0m\n",
      "\u001b[0;32m/home/manoj/anaconda2/lib/python2.7/site-packages/keras/engine/training.pyc\u001b[0m in \u001b[0;36m_fit_loop\u001b[0;34m(self, f, ins, out_labels, batch_size, epochs, verbose, callbacks, val_f, val_ins, shuffle, callback_metrics, initial_epoch)\u001b[0m\n\u001b[1;32m   1154\u001b[0m                 \u001b[0mbatch_logs\u001b[0m\u001b[0;34m[\u001b[0m\u001b[0;34m'size'\u001b[0m\u001b[0;34m]\u001b[0m \u001b[0;34m=\u001b[0m \u001b[0mlen\u001b[0m\u001b[0;34m(\u001b[0m\u001b[0mbatch_ids\u001b[0m\u001b[0;34m)\u001b[0m\u001b[0;34m\u001b[0m\u001b[0m\n\u001b[1;32m   1155\u001b[0m                 \u001b[0mcallbacks\u001b[0m\u001b[0;34m.\u001b[0m\u001b[0mon_batch_begin\u001b[0m\u001b[0;34m(\u001b[0m\u001b[0mbatch_index\u001b[0m\u001b[0;34m,\u001b[0m \u001b[0mbatch_logs\u001b[0m\u001b[0;34m)\u001b[0m\u001b[0;34m\u001b[0m\u001b[0m\n\u001b[0;32m-> 1156\u001b[0;31m                 \u001b[0mouts\u001b[0m \u001b[0;34m=\u001b[0m \u001b[0mf\u001b[0m\u001b[0;34m(\u001b[0m\u001b[0mins_batch\u001b[0m\u001b[0;34m)\u001b[0m\u001b[0;34m\u001b[0m\u001b[0m\n\u001b[0m\u001b[1;32m   1157\u001b[0m                 \u001b[0;32mif\u001b[0m \u001b[0;32mnot\u001b[0m \u001b[0misinstance\u001b[0m\u001b[0;34m(\u001b[0m\u001b[0mouts\u001b[0m\u001b[0;34m,\u001b[0m \u001b[0mlist\u001b[0m\u001b[0;34m)\u001b[0m\u001b[0;34m:\u001b[0m\u001b[0;34m\u001b[0m\u001b[0m\n\u001b[1;32m   1158\u001b[0m                     \u001b[0mouts\u001b[0m \u001b[0;34m=\u001b[0m \u001b[0;34m[\u001b[0m\u001b[0mouts\u001b[0m\u001b[0;34m]\u001b[0m\u001b[0;34m\u001b[0m\u001b[0m\n",
      "\u001b[0;32m/home/manoj/anaconda2/lib/python2.7/site-packages/keras/backend/tensorflow_backend.pyc\u001b[0m in \u001b[0;36m__call__\u001b[0;34m(self, inputs)\u001b[0m\n\u001b[1;32m   2267\u001b[0m         updated = session.run(self.outputs + [self.updates_op],\n\u001b[1;32m   2268\u001b[0m                               \u001b[0mfeed_dict\u001b[0m\u001b[0;34m=\u001b[0m\u001b[0mfeed_dict\u001b[0m\u001b[0;34m,\u001b[0m\u001b[0;34m\u001b[0m\u001b[0m\n\u001b[0;32m-> 2269\u001b[0;31m                               **self.session_kwargs)\n\u001b[0m\u001b[1;32m   2270\u001b[0m         \u001b[0;32mreturn\u001b[0m \u001b[0mupdated\u001b[0m\u001b[0;34m[\u001b[0m\u001b[0;34m:\u001b[0m\u001b[0mlen\u001b[0m\u001b[0;34m(\u001b[0m\u001b[0mself\u001b[0m\u001b[0;34m.\u001b[0m\u001b[0moutputs\u001b[0m\u001b[0;34m)\u001b[0m\u001b[0;34m]\u001b[0m\u001b[0;34m\u001b[0m\u001b[0m\n\u001b[1;32m   2271\u001b[0m \u001b[0;34m\u001b[0m\u001b[0m\n",
      "\u001b[0;32m/home/manoj/anaconda2/lib/python2.7/site-packages/tensorflow/python/client/session.pyc\u001b[0m in \u001b[0;36mrun\u001b[0;34m(self, fetches, feed_dict, options, run_metadata)\u001b[0m\n\u001b[1;32m    893\u001b[0m     \u001b[0;32mtry\u001b[0m\u001b[0;34m:\u001b[0m\u001b[0;34m\u001b[0m\u001b[0m\n\u001b[1;32m    894\u001b[0m       result = self._run(None, fetches, feed_dict, options_ptr,\n\u001b[0;32m--> 895\u001b[0;31m                          run_metadata_ptr)\n\u001b[0m\u001b[1;32m    896\u001b[0m       \u001b[0;32mif\u001b[0m \u001b[0mrun_metadata\u001b[0m\u001b[0;34m:\u001b[0m\u001b[0;34m\u001b[0m\u001b[0m\n\u001b[1;32m    897\u001b[0m         \u001b[0mproto_data\u001b[0m \u001b[0;34m=\u001b[0m \u001b[0mtf_session\u001b[0m\u001b[0;34m.\u001b[0m\u001b[0mTF_GetBuffer\u001b[0m\u001b[0;34m(\u001b[0m\u001b[0mrun_metadata_ptr\u001b[0m\u001b[0;34m)\u001b[0m\u001b[0;34m\u001b[0m\u001b[0m\n",
      "\u001b[0;32m/home/manoj/anaconda2/lib/python2.7/site-packages/tensorflow/python/client/session.pyc\u001b[0m in \u001b[0;36m_run\u001b[0;34m(self, handle, fetches, feed_dict, options, run_metadata)\u001b[0m\n\u001b[1;32m   1122\u001b[0m     \u001b[0;32mif\u001b[0m \u001b[0mfinal_fetches\u001b[0m \u001b[0;32mor\u001b[0m \u001b[0mfinal_targets\u001b[0m \u001b[0;32mor\u001b[0m \u001b[0;34m(\u001b[0m\u001b[0mhandle\u001b[0m \u001b[0;32mand\u001b[0m \u001b[0mfeed_dict_tensor\u001b[0m\u001b[0;34m)\u001b[0m\u001b[0;34m:\u001b[0m\u001b[0;34m\u001b[0m\u001b[0m\n\u001b[1;32m   1123\u001b[0m       results = self._do_run(handle, final_targets, final_fetches,\n\u001b[0;32m-> 1124\u001b[0;31m                              feed_dict_tensor, options, run_metadata)\n\u001b[0m\u001b[1;32m   1125\u001b[0m     \u001b[0;32melse\u001b[0m\u001b[0;34m:\u001b[0m\u001b[0;34m\u001b[0m\u001b[0m\n\u001b[1;32m   1126\u001b[0m       \u001b[0mresults\u001b[0m \u001b[0;34m=\u001b[0m \u001b[0;34m[\u001b[0m\u001b[0;34m]\u001b[0m\u001b[0;34m\u001b[0m\u001b[0m\n",
      "\u001b[0;32m/home/manoj/anaconda2/lib/python2.7/site-packages/tensorflow/python/client/session.pyc\u001b[0m in \u001b[0;36m_do_run\u001b[0;34m(self, handle, target_list, fetch_list, feed_dict, options, run_metadata)\u001b[0m\n\u001b[1;32m   1319\u001b[0m     \u001b[0;32mif\u001b[0m \u001b[0mhandle\u001b[0m \u001b[0;32mis\u001b[0m \u001b[0mNone\u001b[0m\u001b[0;34m:\u001b[0m\u001b[0;34m\u001b[0m\u001b[0m\n\u001b[1;32m   1320\u001b[0m       return self._do_call(_run_fn, self._session, feeds, fetches, targets,\n\u001b[0;32m-> 1321\u001b[0;31m                            options, run_metadata)\n\u001b[0m\u001b[1;32m   1322\u001b[0m     \u001b[0;32melse\u001b[0m\u001b[0;34m:\u001b[0m\u001b[0;34m\u001b[0m\u001b[0m\n\u001b[1;32m   1323\u001b[0m       \u001b[0;32mreturn\u001b[0m \u001b[0mself\u001b[0m\u001b[0;34m.\u001b[0m\u001b[0m_do_call\u001b[0m\u001b[0;34m(\u001b[0m\u001b[0m_prun_fn\u001b[0m\u001b[0;34m,\u001b[0m \u001b[0mself\u001b[0m\u001b[0;34m.\u001b[0m\u001b[0m_session\u001b[0m\u001b[0;34m,\u001b[0m \u001b[0mhandle\u001b[0m\u001b[0;34m,\u001b[0m \u001b[0mfeeds\u001b[0m\u001b[0;34m,\u001b[0m \u001b[0mfetches\u001b[0m\u001b[0;34m)\u001b[0m\u001b[0;34m\u001b[0m\u001b[0m\n",
      "\u001b[0;32m/home/manoj/anaconda2/lib/python2.7/site-packages/tensorflow/python/client/session.pyc\u001b[0m in \u001b[0;36m_do_call\u001b[0;34m(self, fn, *args)\u001b[0m\n\u001b[1;32m   1325\u001b[0m   \u001b[0;32mdef\u001b[0m \u001b[0m_do_call\u001b[0m\u001b[0;34m(\u001b[0m\u001b[0mself\u001b[0m\u001b[0;34m,\u001b[0m \u001b[0mfn\u001b[0m\u001b[0;34m,\u001b[0m \u001b[0;34m*\u001b[0m\u001b[0margs\u001b[0m\u001b[0;34m)\u001b[0m\u001b[0;34m:\u001b[0m\u001b[0;34m\u001b[0m\u001b[0m\n\u001b[1;32m   1326\u001b[0m     \u001b[0;32mtry\u001b[0m\u001b[0;34m:\u001b[0m\u001b[0;34m\u001b[0m\u001b[0m\n\u001b[0;32m-> 1327\u001b[0;31m       \u001b[0;32mreturn\u001b[0m \u001b[0mfn\u001b[0m\u001b[0;34m(\u001b[0m\u001b[0;34m*\u001b[0m\u001b[0margs\u001b[0m\u001b[0;34m)\u001b[0m\u001b[0;34m\u001b[0m\u001b[0m\n\u001b[0m\u001b[1;32m   1328\u001b[0m     \u001b[0;32mexcept\u001b[0m \u001b[0merrors\u001b[0m\u001b[0;34m.\u001b[0m\u001b[0mOpError\u001b[0m \u001b[0;32mas\u001b[0m \u001b[0me\u001b[0m\u001b[0;34m:\u001b[0m\u001b[0;34m\u001b[0m\u001b[0m\n\u001b[1;32m   1329\u001b[0m       \u001b[0mmessage\u001b[0m \u001b[0;34m=\u001b[0m \u001b[0mcompat\u001b[0m\u001b[0;34m.\u001b[0m\u001b[0mas_text\u001b[0m\u001b[0;34m(\u001b[0m\u001b[0me\u001b[0m\u001b[0;34m.\u001b[0m\u001b[0mmessage\u001b[0m\u001b[0;34m)\u001b[0m\u001b[0;34m\u001b[0m\u001b[0m\n",
      "\u001b[0;32m/home/manoj/anaconda2/lib/python2.7/site-packages/tensorflow/python/client/session.pyc\u001b[0m in \u001b[0;36m_run_fn\u001b[0;34m(session, feed_dict, fetch_list, target_list, options, run_metadata)\u001b[0m\n\u001b[1;32m   1304\u001b[0m           return tf_session.TF_Run(session, options,\n\u001b[1;32m   1305\u001b[0m                                    \u001b[0mfeed_dict\u001b[0m\u001b[0;34m,\u001b[0m \u001b[0mfetch_list\u001b[0m\u001b[0;34m,\u001b[0m \u001b[0mtarget_list\u001b[0m\u001b[0;34m,\u001b[0m\u001b[0;34m\u001b[0m\u001b[0m\n\u001b[0;32m-> 1306\u001b[0;31m                                    status, run_metadata)\n\u001b[0m\u001b[1;32m   1307\u001b[0m \u001b[0;34m\u001b[0m\u001b[0m\n\u001b[1;32m   1308\u001b[0m     \u001b[0;32mdef\u001b[0m \u001b[0m_prun_fn\u001b[0m\u001b[0;34m(\u001b[0m\u001b[0msession\u001b[0m\u001b[0;34m,\u001b[0m \u001b[0mhandle\u001b[0m\u001b[0;34m,\u001b[0m \u001b[0mfeed_dict\u001b[0m\u001b[0;34m,\u001b[0m \u001b[0mfetch_list\u001b[0m\u001b[0;34m)\u001b[0m\u001b[0;34m:\u001b[0m\u001b[0;34m\u001b[0m\u001b[0m\n",
      "\u001b[0;31mKeyboardInterrupt\u001b[0m: "
     ]
    }
   ],
   "source": [
    "model = Sequential()\n",
    "model.add(Dense(85, input_dim=85, kernel_initializer='normal', activation='relu'))\n",
    "model.add(Dense(40, kernel_initializer='normal', activation='relu'))\n",
    "model.add(Dense(20, kernel_initializer='normal', activation='relu'))\n",
    "model.add(Dense(10, kernel_initializer='normal', activation='relu'))\n",
    "#model.add(Dense(5, kernel_initializer='normal', activation='relu'))\n",
    "model.add(Dense(2, kernel_initializer='normal', activation='softmax'))\n",
    "#Compile model\n",
    "model.compile(loss='binary_crossentropy', optimizer='adam', metrics=['accuracy'])\n",
    "model.fit(X, Y, epochs=500, batch_size =2000)"
   ]
  },
  {
   "cell_type": "code",
   "execution_count": 99,
   "metadata": {},
   "outputs": [
    {
     "name": "stdout",
     "output_type": "stream",
     "text": [
      "594592/595212 [============================>.] - ETA: 0s\n",
      "acc: 96.38%\n"
     ]
    }
   ],
   "source": [
    "# evaluate the model\n",
    "scores = model.evaluate(X, Y)\n",
    "print(\"\\n%s: %.2f%%\" % (model.metrics_names[1], scores[1]*100))"
   ]
  },
  {
   "cell_type": "code",
   "execution_count": 100,
   "metadata": {},
   "outputs": [
    {
     "name": "stdout",
     "output_type": "stream",
     "text": [
      "594432/595212 [============================>.] - ETA: 0s"
     ]
    }
   ],
   "source": [
    "answers_prob = model.predict_proba(X)"
   ]
  },
  {
   "cell_type": "code",
   "execution_count": 101,
   "metadata": {},
   "outputs": [
    {
     "name": "stdout",
     "output_type": "stream",
     "text": [
      "532\n"
     ]
    }
   ],
   "source": [
    "predicted_one_count = 0\n",
    "for i in answers_prob:\n",
    "    if i[1] >=0.5:\n",
    "        predicted_one_count +=1 \n",
    "\n",
    "print predicted_one_count        "
   ]
  },
  {
   "cell_type": "code",
   "execution_count": 102,
   "metadata": {},
   "outputs": [
    {
     "name": "stdout",
     "output_type": "stream",
     "text": [
      "2.45229095602\n"
     ]
    }
   ],
   "source": [
    "#Number of ones\n",
    "print float(predicted_one_count)/float(one_count) * 100"
   ]
  },
  {
   "cell_type": "code",
   "execution_count": 103,
   "metadata": {},
   "outputs": [
    {
     "name": "stdout",
     "output_type": "stream",
     "text": [
      "_________________________________________________________________\n",
      "Layer (type)                 Output Shape              Param #   \n",
      "=================================================================\n",
      "dense_50 (Dense)             (None, 85)                7310      \n",
      "_________________________________________________________________\n",
      "dense_51 (Dense)             (None, 40)                3440      \n",
      "_________________________________________________________________\n",
      "dense_52 (Dense)             (None, 20)                820       \n",
      "_________________________________________________________________\n",
      "dense_53 (Dense)             (None, 10)                210       \n",
      "_________________________________________________________________\n",
      "dense_54 (Dense)             (None, 2)                 22        \n",
      "=================================================================\n",
      "Total params: 11,802\n",
      "Trainable params: 11,802\n",
      "Non-trainable params: 0\n",
      "_________________________________________________________________\n"
     ]
    }
   ],
   "source": [
    "model.summary()"
   ]
  },
  {
   "cell_type": "code",
   "execution_count": 104,
   "metadata": {
    "collapsed": true
   },
   "outputs": [],
   "source": [
    "#Read and prdict the test data\n",
    "dataframe = pandas.read_csv(\"test_without_smote_mj_allcat.csv\", header=0)\n",
    "dataset = dataframe.values\n",
    "\n",
    "# split into input (X) and output (Y) variables\n",
    "X = dataset[:,1:].astype(float)\n",
    "#Y = dataset[:,22]\n",
    "id = dataset[:,0].astype(int)"
   ]
  },
  {
   "cell_type": "code",
   "execution_count": 105,
   "metadata": {},
   "outputs": [
    {
     "name": "stdout",
     "output_type": "stream",
     "text": [
      "[[-0.9576486  -0.54237645  1.32817405 ..., -0.6037182  -0.99907526\n",
      "   0.89549453]\n",
      " [ 1.05594129  0.96140246  0.2171238  ..., -0.6037182   1.00092559\n",
      "   0.89549453]\n",
      " [ 1.55933876 -0.54237645 -0.52357636 ...,  1.65640193  1.00092559\n",
      "  -1.1167014 ]\n",
      " ..., \n",
      " [-0.9576486  -0.54237645  0.2171238  ..., -0.6037182   1.00092559\n",
      "   0.89549453]\n",
      " [ 2.06273623 -0.54237645  0.2171238  ..., -0.6037182   1.00092559\n",
      "  -1.1167014 ]\n",
      " [ 2.5661337  -0.54237645 -0.15322628 ...,  1.65640193 -0.99907526\n",
      "  -1.1167014 ]]\n",
      "(892816,)\n"
     ]
    }
   ],
   "source": [
    "X = scale.fit_transform(X)\n",
    "print X\n",
    "print id.shape"
   ]
  },
  {
   "cell_type": "code",
   "execution_count": 106,
   "metadata": {},
   "outputs": [
    {
     "name": "stdout",
     "output_type": "stream",
     "text": [
      "890624/892816 [============================>.] - ETA: 0s"
     ]
    }
   ],
   "source": [
    "answers_prob_test = model.predict_proba(X)"
   ]
  },
  {
   "cell_type": "code",
   "execution_count": 107,
   "metadata": {
    "collapsed": true
   },
   "outputs": [],
   "source": [
    "one_probabs_test = answers_prob_test[:,1]"
   ]
  },
  {
   "cell_type": "code",
   "execution_count": 108,
   "metadata": {},
   "outputs": [
    {
     "data": {
      "text/plain": [
       "(892816,)"
      ]
     },
     "execution_count": 108,
     "metadata": {},
     "output_type": "execute_result"
    }
   ],
   "source": [
    "one_probabs_test.shape"
   ]
  },
  {
   "cell_type": "code",
   "execution_count": 109,
   "metadata": {},
   "outputs": [
    {
     "data": {
      "text/plain": [
       "842"
      ]
     },
     "execution_count": 109,
     "metadata": {},
     "output_type": "execute_result"
    }
   ],
   "source": [
    "sum(one_probabs_test>=0.5)"
   ]
  },
  {
   "cell_type": "code",
   "execution_count": 110,
   "metadata": {
    "collapsed": true
   },
   "outputs": [],
   "source": [
    "df = pandas.DataFrame({\"id\":id})\n",
    "df\n",
    "df[\"target\"] = one_probabs_test\n",
    "df.to_csv(\"answers_full_nn.csv\",index=False)"
   ]
  },
  {
   "cell_type": "code",
   "execution_count": null,
   "metadata": {
    "collapsed": true
   },
   "outputs": [],
   "source": []
  }
 ],
 "metadata": {
  "kernelspec": {
   "display_name": "Python 2",
   "language": "python",
   "name": "python2"
  },
  "language_info": {
   "codemirror_mode": {
    "name": "ipython",
    "version": 2
   },
   "file_extension": ".py",
   "mimetype": "text/x-python",
   "name": "python",
   "nbconvert_exporter": "python",
   "pygments_lexer": "ipython2",
   "version": "2.7.13"
  }
 },
 "nbformat": 4,
 "nbformat_minor": 2
}
